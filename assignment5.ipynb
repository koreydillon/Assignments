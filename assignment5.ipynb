{
 "cells": [
  {
   "cell_type": "markdown",
   "metadata": {
    "collapsed": true,
    "id": "DAwwV0Kf2yOW",
    "jupyter": {
     "outputs_hidden": true
    }
   },
   "source": [
    "# Assignment 5 Space Cows Transportation\n"
   ]
  },
  {
   "cell_type": "markdown",
   "metadata": {
    "collapsed": true,
    "id": "4ifkh4F32yOX",
    "jupyter": {
     "outputs_hidden": true
    }
   },
   "source": [
    "\n",
    "## Introduction\n",
    "In this assignment, a colony of Aucks (super-intelligent alien bio-engineers) has landed on Earth and has created new species of farm animals! The Aucks are performing their experiments on Earth, and plan on transporting the mutant animals back to their home planet of Aurock. In this problem set, you will implement algorithms to figure out how the aliens should shuttle their experimental animals back across space.\n",
    "\n"
   ]
  },
  {
   "cell_type": "markdown",
   "metadata": {
    "id": "kzibvlRU2yOY"
   },
   "source": [
    "## Getting Started\n",
    "\n",
    "Download this ipynb file as well as the two text files [a5_cow_data.txt](https://drive.google.com/file/d/1dCeYW6oBBwynKZW9Odd82xjQ9TiJaAok/view?usp=drive_link), and [a5_cow_data_1.txt](https://drive.google.com/file/d/1DtmTo1UYZuuHvNZvW4a9pl6jWuN-k-ex/view?usp=sharing) from the website.\n",
    "\n",
    "Please do not rename the provided files, change any of the provided helper functions, change function/method names, or delete provided docstrings. You will need to keep ```a5_cow_data.txt```, and ```a5_cow_data_1.txt```, in the same folder as ```assignment5.ipynb```.\n"
   ]
  },
  {
   "cell_type": "markdown",
   "metadata": {
    "id": "fTak1pvx2yOY"
   },
   "source": [
    "## Problem Set Overview\n",
    "\n",
    "The aliens have succeeded in breeding cows that jump over the moon! Now they want to take home their mutant cows. The aliens want to take all chosen cows back, but their spaceship has a weight limit and they can only travel a limitted number of trips they have to take across the universe. Somehow, the aliens have evolved and developed breeding technology to make cows with integer weights and IQs.\n",
    "\n",
    "The data for the cows to be transported is stored in ```a5_cow_data.txt```, and another set of cows for another separate transport are in ```a5_cow_data_1.txt```. (You may use the two files to read data and test your implementation individually). All of your code for the problem solving in this assignment should go into ```a5.ipynb```--you need to expand the given notebook to include your Python code and discussion notes.  \n",
    "\n",
    "For each problem, I provide some skeleton code for you to start your problem solving. Note that most of the code definitions are not complete unless I point out the completion of some certain function such as **greedy** for Problem 3. For each code cell that contains only incomplete code, you need to extend the code implementation.  \n",
    "\n",
    "You also need to solve the problems in the order presented in this document.  That is, you should complete problem 1 first before you approach problems 2 and 3.  The solutions of the later problems are dependent on the solutions to earlier problems.  For example, in Problem 2, you need to parse a data file to create Cow objects.  The class definition of Cow for Problem 1 is needed to create the Cow objects for Problem 2.  "
   ]
  },
  {
   "cell_type": "markdown",
   "metadata": {
    "id": "S6e6IeWa2yOZ"
   },
   "source": [
    "# Problem 1: Defining Cow Class\n",
    "\n",
    "First we need to define a **Cow** class.  Each cow object state is described using name as a string and weight as an int. (You may check the Food class definition in the lecture notes as a reference when you are working on defining the Cow class.)\n",
    "\n",
    "Note that I provided some skeleton code below so that you may expand based on what is provided.  "
   ]
  },
  {
   "cell_type": "code",
   "execution_count": 2,
   "metadata": {
    "id": "8dvlU5QJ2yOZ"
   },
   "outputs": [
    {
     "name": "stdout",
     "output_type": "stream",
     "text": [
      "Cow mary: Weight 3, IQ 120\n",
      "40.0\n",
      "Name: mary\n",
      "Weight: 3\n",
      "IQ: 120\n",
      "Density of Zero: inf\n"
     ]
    }
   ],
   "source": [
    "# Problem 1\n",
    "\n",
    "class Cow(object):\n",
    "    \"\"\"\n",
    "    Cow is defined as a means to organize cow data, including name and weight as\n",
    "    well as accessing name and weight from a cow object\n",
    "\n",
    "    Cow object data\n",
    "    name - cow name as a string\n",
    "    weight - cow weight as an int\n",
    "    IQ - cow intelligence as an int\n",
    "\n",
    "    Methods to define\n",
    "    __init__\n",
    "    __str__\n",
    "    getName\n",
    "    getWeight\n",
    "    getIQ\n",
    "    getDensity\n",
    "\n",
    "    \"\"\"\n",
    "\n",
    "    def __init__(self, n, w, i):\n",
    "        self.name = n\n",
    "        self.weight = w\n",
    "        self.i = i\n",
    "        self.transported = 0\n",
    "\n",
    "    def __str__(self):\n",
    "        return f\"Cow {self.name}: Weight {self.weight}, IQ {self.i}\"\n",
    "\n",
    "    def getName(self):\n",
    "        return self.name\n",
    "\n",
    "    def getWeight(self):\n",
    "        return self.weight\n",
    "\n",
    "    def getIQ(self):\n",
    "        return self.i\n",
    "\n",
    "    def getDensity(self):\n",
    "        try:\n",
    "            return self.i / self.weight\n",
    "        except ZeroDivisionError:\n",
    "            return float('inf')  \n",
    "\n",
    "mary = Cow('mary', 3, 120)\n",
    "print(mary)\n",
    "print(mary.getDensity())\n",
    "\n",
    "# Extended test code\n",
    "print(f\"Name: {mary.getName()}\")\n",
    "print(f\"Weight: {mary.getWeight()}\")\n",
    "print(f\"IQ: {mary.getIQ()}\")\n",
    "\n",
    "\n",
    "zero_weight_cow = Cow(\"Zero\", 0, 50)\n",
    "print(f\"Density of {zero_weight_cow.getName()}: {zero_weight_cow.getDensity()}\")\n"
   ]
  },
  {
   "cell_type": "markdown",
   "metadata": {
    "id": "UmatqP4C2yOa"
   },
   "source": [
    "# Problem 2: Loading Cow Data\n",
    "\n",
    "Second we need to load the cow data from the data file ```a5_cow_data.txt```.\n",
    "The file ```a5_cow_data_1.txt``` is given as another file that you can read and test from, but for now, just work with a1_cow_data.txt.\n",
    "\n",
    "You can expect the data to be formatted in triples of ```x,y,z``` on each line, where ```x``` is the name of the cow, ```y``` is a number indicating how much the cow weighs in tons, and ```z``` is a number indicating the cow's IQ value. Here are the few lines\n",
    "of ```a5_cow_data.txt```:\n",
    "\n",
    "<code>\n",
    "Maggie,3,165\n",
    "Herman,7,126\n",
    "Betsy,9,122\n",
    "Oreo,6,104\n",
    "Moo Moo,3,151\n",
    "Milkshake,2,117\n",
    "Millie,5,84\n",
    "Lola,2,131\n",
    "Florence,2,101\n",
    "Henrietta,9,106\n",
    "</code>\n",
    "\n",
    "You can assume that all the cows have unique names.\n",
    "Hint: If you don’t remember how to read lines from a file, check out the online python documentation, which has a chapter on **Input and Output** that includes file I/O here: https://docs.python.org/3/tutorial/inputoutput.html\n",
    "\n",
    "Some functions that may be helpful:\n",
    "\n",
    "<code>\n",
    "str.split\n",
    "open\n",
    "file.readline\n",
    "file.close\n",
    "</code>\n",
    "\n"
   ]
  },
  {
   "cell_type": "code",
   "execution_count": null,
   "metadata": {
    "id": "E9C9UiFr2yOa",
    "outputId": "cbcc41b2-6d71-4fd6-aae5-6406e2479fb6",
    "scrolled": true
   },
   "outputs": [
    {
     "name": "stdout",
     "output_type": "stream",
     "text": [
      "Maggie,3,165\r\n",
      "Herman,7,126\r\n",
      "Betsy,9,122\r\n",
      "Oreo,6,104\r\n",
      "Moo Moo,3,151\r\n",
      "Milkshake,2,117\r\n",
      "Millie,5,84\r\n",
      "Lola,2,131\r\n",
      "Florence,2,101\r\n",
      "Henrietta,9,106\r\n"
     ]
    }
   ],
   "source": [
    "! cat \"a5_cow_data.txt\""
   ]
  },
  {
   "cell_type": "code",
   "execution_count": null,
   "metadata": {
    "id": "HmCusiAI2yOb",
    "outputId": "e52a41df-fc01-491f-9cc1-69e1d3e03cbe"
   },
   "outputs": [
    {
     "name": "stdout",
     "output_type": "stream",
     "text": [
      "Miss Moo-dy,3,172\r\n",
      "Milkshake,4,102\r\n",
      "Lotus,10,149\r\n",
      "Miss Bella,2,103\r\n",
      "Horns,9,81\r\n",
      "Betsy,5,97\r\n",
      "Rose,3,155\r\n",
      "Dottie,6,91\r\n"
     ]
    }
   ],
   "source": [
    "! cat \"a5_cow_data_1.txt\"\n"
   ]
  },
  {
   "cell_type": "code",
   "execution_count": 3,
   "metadata": {
    "id": "tXfAwAsS2yOb"
   },
   "outputs": [
    {
     "name": "stdout",
     "output_type": "stream",
     "text": [
      "Cow Maggie: Weight 3, IQ 165\n",
      "Cow Herman: Weight 7, IQ 126\n",
      "Cow Betsy: Weight 9, IQ 122\n",
      "Cow Oreo: Weight 6, IQ 104\n",
      "Cow Moo Moo: Weight 3, IQ 151\n",
      "Cow Milkshake: Weight 2, IQ 117\n",
      "Cow Millie: Weight 5, IQ 84\n",
      "Cow Lola: Weight 2, IQ 131\n",
      "Cow Florence: Weight 2, IQ 101\n",
      "Cow Henrietta: Weight 9, IQ 106\n"
     ]
    }
   ],
   "source": [
    "# Problem 2\n",
    "def load_cows(filename):\n",
    "    \"\"\"\n",
    "    Read the contents of the given file.  Assumes the file contents contain\n",
    "    data in the form of comma-separated triples composed of cow name, weight, and iq, and return a\n",
    "    list containing Cow objects each of which has has a name, a weight, and an iq\n",
    "\n",
    "    Parameters:\n",
    "    filename - the name of the data file as a string\n",
    "\n",
    "    Returns:\n",
    "    a list of Cow objects\n",
    "    \"\"\"\n",
    "    data = []\n",
    "    try:\n",
    "        f = open(filename)\n",
    "\n",
    "        for line in f:\n",
    "            line = line.strip()  \n",
    "            if line: \n",
    "                parts = line.split(',')\n",
    "                if len(parts) == 3:\n",
    "                    name = parts[0]\n",
    "                    weight = int(parts[1])\n",
    "                    iq = int(parts[2])\n",
    "                    data.append(Cow(name, weight, iq))\n",
    "                else:\n",
    "                    print(f\"Warning: Invalid line format: {line}\") \n",
    "\n",
    "        f.close()\n",
    "    except FileNotFoundError:\n",
    "        print(f\"Error: File '{filename}' not found.\")\n",
    "\n",
    "    return data\n",
    "\n",
    "\n",
    "data = load_cows(\"a5_cow_data.txt\")\n",
    "for i in range(len(data)):\n",
    "    print(data[i])\n",
    "\n"
   ]
  },
  {
   "cell_type": "markdown",
   "metadata": {
    "id": "CKCRSDok2yOb"
   },
   "source": [
    "### Problem 3: Greedy Cow Transport\n",
    "\n",
    "One way of transporting cows is to always pick the cow that has the most intelligence density (IQ/weight) onto the spaceship first. This is an example of a ```greedy``` algorithm.  You may choose a criterion to use, which you think suitable to accomplish the goal ---to transport the maximum intelligence values of cows back home.\n",
    "\n",
    "Implement a greedy algorithm for transporting the cows back across space in\n",
    "**greedy_cow_transport**. The constraints include the weight limit for each space trip and the total number of trips the aliens can make.  The result should be a triple composed of three values: the first value presents the total sum of the IQs of the cows transported, the second value presents the total sum of the weight values of the transported cows, and the third value presents a list of lists, with each inner list containing cows (cow objects) transported on a particular trip.\n",
    "\n",
    "\n",
    "\n",
    "To facilitate your problem solving, I provide a function definition of greedy, which is complete. (It means that you do NOT need to change anything.  I also provide some skeleton code for **greedy_cow_transport** including the function call of greedy on line 35. The function definition of **greedy** is based on the greedy algorithm we studied in the lecture.  \n",
    "\n"
   ]
  },
  {
   "cell_type": "code",
   "execution_count": 5,
   "metadata": {
    "id": "3jG5zAcA2yOc"
   },
   "outputs": [],
   "source": [
    "\n",
    "#Implementation of Flexible Greedy\n",
    "def greedy(cows, maxCost, keyFunction):\n",
    "    \"\"\"\n",
    "    Uses a greedy approach based on a criterion to\n",
    "    determine a list of Cow objects\n",
    "    to take on a single trip by a spaceship that can carry\n",
    "    a certain amount of weight.\n",
    "\n",
    "    Parameters:\n",
    "        cows - a list of Cow objects\n",
    "        maxCost - should be a positive int to indicate the maximum weight (tons) the trip can do\n",
    "        keyFunction - should be a function that is used to sort the cows\n",
    "                        and it maps an item to a number\n",
    "    Returns:\n",
    "        result - a list of Cows chosen to be transported by a trip\n",
    "        totalValue - an int value to keep track of the sum of IQ values of the transported Cow objects\n",
    "        totalCost - an int value to keep track of the sum of weights of the transfored Cow objects\n",
    "    \"\"\"\n",
    "\n",
    "    #Attention check sorted function documentation\n",
    "    itemsCopy = sorted(cows, key = keyFunction,\n",
    "                       reverse = True)\n",
    "    result = []\n",
    "\n",
    "    totalValue, totalCost = 0, 0\n",
    "\n",
    "    for i in range(len(itemsCopy)): #Attention\n",
    "        if (totalCost+itemsCopy[i].getWeight()) <= maxCost:  #Attention\n",
    "            result.append(itemsCopy[i])\n",
    "            totalCost += itemsCopy[i].getWeight()\n",
    "            totalValue += itemsCopy[i].getIQ()\n",
    "\n",
    "    return (result, totalValue, totalCost)\n"
   ]
  },
  {
   "cell_type": "code",
   "execution_count": 8,
   "metadata": {
    "id": "-rJLUU6T2yOc"
   },
   "outputs": [
    {
     "name": "stdout",
     "output_type": "stream",
     "text": [
      "Trip 0:\n",
      "Cow Lola: Weight 2, IQ 131\n",
      "Cow Milkshake: Weight 2, IQ 117\n",
      "Cow Maggie: Weight 3, IQ 165\n",
      "Cow Florence: Weight 2, IQ 101\n",
      "\n",
      "\n",
      "Trip 1:\n",
      "Cow Moo Moo: Weight 3, IQ 151\n",
      "Cow Herman: Weight 7, IQ 126\n",
      "\n",
      "\n",
      "Trip 2:\n",
      "Cow Oreo: Weight 6, IQ 104\n",
      "\n",
      "\n",
      "Total IQs transported = 895\n",
      "Total weights (tons) transported = 25\n"
     ]
    }
   ],
   "source": [
    "# Problem 3 \n",
    "\n",
    "def greedy_cow_transport(cows_list, oneTripWeightLimit=10, numberOfTrips=3):\n",
    "    \"\"\"\n",
    "    Modified to work with a list of Cow objects.\n",
    "    \"\"\"\n",
    "    trips = []\n",
    "    totalValue = 0\n",
    "    totalCost = 0\n",
    "    remaining_cows = cows_list[:]  \n",
    "\n",
    "    for _ in range(numberOfTrips):\n",
    "        if not remaining_cows:\n",
    "            break\n",
    "\n",
    "        result, oneTripValue, oneTripCost = greedy(remaining_cows, oneTripWeightLimit, Cow.getDensity)\n",
    "\n",
    "        if not result:\n",
    "            break\n",
    "\n",
    "        trips.append(result)\n",
    "        totalValue += oneTripValue\n",
    "        totalCost += oneTripCost\n",
    "\n",
    "        \n",
    "        for cow in result:\n",
    "            if cow in remaining_cows:\n",
    "                remaining_cows.remove(cow)\n",
    "\n",
    "    return totalValue, totalCost, trips\n",
    "\n",
    "\n",
    "cows_list = load_cows(\"a5_cow_data.txt\")  \n",
    "totalValue, totalCost, trips = greedy_cow_transport(cows_list) \n",
    "\n",
    "for i in range(len(trips)):\n",
    "    print(\"Trip \" + str(i) + \":\")\n",
    "    for cow in trips[i]:\n",
    "        print(cow)\n",
    "    print(\"\\n\")\n",
    "\n",
    "print(\"Total IQs transported = \" + str(totalValue))\n",
    "print(\"Total weights (tons) transported = \" + str(totalCost))"
   ]
  },
  {
   "cell_type": "markdown",
   "metadata": {
    "id": "uShuhZH62yOc"
   },
   "source": [
    "# Problem 4: Explanation\r\n",
    "\r\n",
    "1.  **Does the simple, quick (greedy) method give the best answer?**\r\n",
    "\r\n",
    "    * No, it doesn't always give the best answer.\r\n",
    "    * How we judge simple, quick methods: These methods make the best choice they can *right now*, hoping it leads to the best overall result. But this doesn't always work. We often judge these methods by how fast they are and if they give a \"good enough\" answer, especially when finding the perfect answer takes too long.\r\n",
    "    * In this case: The method picks cows based on their smartness compared to their weight. This might not give the most total smartness within the weight and trip limits. It focuses on \"smartness per pound\" but ignores if a single, very smart, but heavy, cow would be better overall.\r\n",
    "\r\n",
    "2.  **If not, how could we find the best answer?**\r\n",
    "\r\n",
    "    * How to find the best answer:\r\n",
    "        * Try every possible combination: We could try every way to pick cows and trips to find the one with the most total smartness within the limits. But this takes a very long time, especially with many cows.\r\n",
    "        * Smartly breaking down the problem: We can break the problem into smaller, simpler parts and save the answers to those parts so we don't have to calculate them again. This is faster than trying every combination.\r\n",
    "        * Using smart search methods: These methods look for the best answer while skipping parts that can't be good. This is faster than trying everything but can still take a while.\r\n",
    "\r\n",
    "**My Thoughts on the Project:**\r\n",
    "\r\n",
    "1.  **What steps did I take to solve the problems?**\r\n",
    "\r\n",
    "    * Building the code step by step: I started by making the cow \"thing,\" then loaded the data, and finally made the method to pick cows.\r\n",
    "    * Making the code easy to manage: I broke the problem into smaller parts (functions) that did one job each.\r\n",
    "    * Testing: I added code to check if each part was working correctly.\r\n",
    "    * Finding and fixing errors: I used print statements and checked the code step by step to find and fix errors.\r\n",
    "    * Understanding the problem: I carefully read and understood what the problem asked for.\r\n",
    "\r\n",
    "2.  **What was hard, and how did I deal with it?**\r\n",
    "\r\n",
    "    * Understanding the simple, quick method: At first, I had trouble making the method work correctly with the trip and weight limits. I fixed this by walking through the method with example data.\r\n",
    "    * Data type errors: I had errors because I was using a list when I needed a dictionary. I fixed this by changing the code to use the right data type.\r\n",
    "    * Finding the *best* answer: I had trouble figuring out how to find the absolute best answer. I realized I needed to try every combination or use a smart breakdown method, but I didn't have time to do that. I focused on making the simple, quick method work.\r\n",
    "\r\n",
    "3.  **What did I learn, and how can I use it?**\r\n",
    "\r\n",
    "    * Data types matter: Choosing the right data type (lists vs. dictionaries) is important.\r\n",
    "    * Simple, quick methods have trade-offs: They are fast but don't always give the best answer. They are good when a \"good enough\" answer is okay.\r\n",
    "    * Breaking down problems: Making the code into smaller parts makes it easier to read and fix.\r\n",
    "    * Finding and fixing errors: Using print statements and checking the code step by step is important.\r\n",
    "    * Real-world uses:\r\n",
    "        * Using limited resources: Making the best use of things like internet speed, storage, or cars.\r\n",
    "        * Scheduling: Planning tasks or events to be as efficient as possible.\r\n",
    "        * Finding routes: Finding the shortest or fastest way to get somewhere.\r\n",
    "        * Picking the best items: Like in this project, picking items with the most value within a weight limit.with maximum value within a weight limit.with maximum value within a weight limit."
   ]
  },
  {
   "cell_type": "markdown",
   "metadata": {
    "id": "9zxAbViL2yOc"
   },
   "source": [
    "# Turn-in\n",
    "You need to turn in below for your submission:\n",
    "\n",
    "* Your notebook file that contains the code and presentation.  Note that you need to execute the code cells to generate output that should be similar to the output examples presented in this document.  My running environment is different from yours.  To make sure I evaluate your notebook fairly, you should provide me the output you ran at your side. After you run your code cells, you can save the notebook file.   \n",
    "* Any other supplementary documents you want to submit to D2L Assignments folder\n",
    "\n",
    "You need to package the files into a zip archive and upload the zip file to D2L assignment folder <b>Assignment 5</b>"
   ]
  }
 ],
 "metadata": {
  "colab": {
   "provenance": []
  },
  "kernelspec": {
   "display_name": "Python 3 (ipykernel)",
   "language": "python",
   "name": "python3"
  },
  "language_info": {
   "codemirror_mode": {
    "name": "ipython",
    "version": 3
   },
   "file_extension": ".py",
   "mimetype": "text/x-python",
   "name": "python",
   "nbconvert_exporter": "python",
   "pygments_lexer": "ipython3",
   "version": "3.11.7"
  }
 },
 "nbformat": 4,
 "nbformat_minor": 4
}
